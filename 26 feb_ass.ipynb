{
 "cells": [
  {
   "cell_type": "code",
   "execution_count": null,
   "id": "bd2c2f76",
   "metadata": {},
   "outputs": [],
   "source": [
    "Q1. Is there any difference in the data type of variables list_ and array_list? If there is then write a code to print the data types of both the variables.\n",
    "\n",
    "Yes, there is a difference in the data type of the variables list_ and array_list. list_ is a Python list, which can store elements of different data types. The elements of list_ are strings, so the data type of list_ is str. array_list is a NumPy array, which can only store elements of the same data type. The elements of array_list are also strings, so the data type of array_list is also str.\n",
    "\n",
    "\n",
    "print(type(list_))  # str\n",
    "print(type(array_list))  # numpy.ndarray\n",
    "\n",
    "\n",
    " "
   ]
  },
  {
   "cell_type": "code",
   "execution_count": null,
   "id": "559320c4",
   "metadata": {},
   "outputs": [],
   "source": [
    "Q2. Write a code to print the data type of each and every element of both the variables list_ and arra_list.\n",
    "\n",
    "\n",
    "for i in range(len(list_)):\n",
    "    print(type(list_[i]))\n",
    "\n",
    "for i in range(len(array_list)):\n",
    "    print(type(array_list[i]))"
   ]
  },
  {
   "cell_type": "code",
   "execution_count": null,
   "id": "54d7221f",
   "metadata": {},
   "outputs": [],
   "source": [
    "Q3. Considering the following changes in the variable, array_list:\n",
    "array_list = np.array(object = list_, dtype = int)\n",
    "Will there be any difference in the data type of the elements present in both the variables, list_ and arra_list? If so then print the data types of each and every element present in both the variables, list_ and arra_list.\n",
    "\n",
    "Yes, there will be a difference in the data type of the elements present in both the variables list_ and array_list if we change array_list to np.array(object=list_, dtype=int). The elements of list_ will remain strings, but the elements of array_list will be converted to integers.\n",
    "\n",
    "Python\n",
    "array_list = np.array(object=list_, dtype=int)\n",
    "\n",
    "for i in range(len(list_)):\n",
    "    print(type(list_[i]))  # str\n",
    "    print(type(array_list[i]))  # int"
   ]
  },
  {
   "cell_type": "code",
   "execution_count": null,
   "id": "4ea60b63",
   "metadata": {},
   "outputs": [],
   "source": [
    "Q4. Write a code to find the following characteristics of variable, num_array:\n",
    "(i) shape\n",
    "(ii) size\n",
    "\n",
    "Python\n",
    "num_array = np.array(object=num_list)\n",
    "\n",
    "print(num_array.shape)  # (2, 3)\n",
    "print(num_array.size)  # 6"
   ]
  },
  {
   "cell_type": "code",
   "execution_count": null,
   "id": "eebd137a",
   "metadata": {},
   "outputs": [],
   "source": [
    "Q5. Write a code to create numpy array of 3*3 matrix containing zeros only, using a numpy array creation function.\n",
    "[Hint: The size of the array will be 9 and the shape will be (3,3).]\n",
    "\n",
    "Python\n",
    "zeros_array = np.zeros((3, 3))\n",
    "\n",
    "print(zeros_array)"
   ]
  },
  {
   "cell_type": "code",
   "execution_count": null,
   "id": "195406c8",
   "metadata": {},
   "outputs": [],
   "source": [
    "Q6. Create an identity matrix of shape (5,5) using numpy functions?\n",
    "[Hint: An identity matrix is a matrix containing 1 diagonally and other elements will be 0.]\n",
    "\n",
    "Python\n",
    "identity_matrix = np.identity(5)\n",
    "\n",
    "print(identity_matrix)"
   ]
  },
  {
   "cell_type": "code",
   "execution_count": null,
   "id": "ea1b2e4f",
   "metadata": {},
   "outputs": [],
   "source": []
  },
  {
   "cell_type": "code",
   "execution_count": null,
   "id": "3f312994",
   "metadata": {},
   "outputs": [],
   "source": []
  },
  {
   "cell_type": "code",
   "execution_count": null,
   "id": "249a42b9",
   "metadata": {},
   "outputs": [],
   "source": []
  },
  {
   "cell_type": "code",
   "execution_count": null,
   "id": "edf09281",
   "metadata": {},
   "outputs": [],
   "source": []
  }
 ],
 "metadata": {
  "kernelspec": {
   "display_name": "Python 3 (ipykernel)",
   "language": "python",
   "name": "python3"
  },
  "language_info": {
   "codemirror_mode": {
    "name": "ipython",
    "version": 3
   },
   "file_extension": ".py",
   "mimetype": "text/x-python",
   "name": "python",
   "nbconvert_exporter": "python",
   "pygments_lexer": "ipython3",
   "version": "3.9.13"
  }
 },
 "nbformat": 4,
 "nbformat_minor": 5
}
